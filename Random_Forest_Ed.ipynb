{
 "cells": [
  {
   "cell_type": "code",
   "execution_count": 5,
   "metadata": {},
   "outputs": [],
   "source": [
    "import pandas as pd\n",
    "import matplotlib as plt\n",
    "matplotlib.use(\"Agg\")\n",
    "%matplotlib inline"
   ]
  },
  {
   "cell_type": "code",
   "execution_count": 6,
   "metadata": {},
   "outputs": [],
   "source": [
    "import seaborn as sns\n",
    "from sklearn.model_selection import train_test_split\n",
    "from sklearn import metrics\n",
    "from sklearn import tree"
   ]
  },
  {
   "cell_type": "code",
   "execution_count": 8,
   "metadata": {},
   "outputs": [],
   "source": [
    "from sklearn.ensemble import RandomForestClassifier\n",
    "from sklearn.metrics import  confusion_matrix, accuracy_score"
   ]
  },
  {
   "cell_type": "code",
   "execution_count": 9,
   "metadata": {},
   "outputs": [
    {
     "name": "stdout",
     "output_type": "stream",
     "text": [
      "         ID                 Name      Date  Time Event Status Latitude  \\\n",
      "0  EP011949              UNNAMED  19490611     0           TS    20.2N   \n",
      "1  EP011949              UNNAMED  19490611   600           TS    20.2N   \n",
      "2  EP011949              UNNAMED  19490611  1200           TS    20.2N   \n",
      "3  EP011949              UNNAMED  19490611  1800           TS    20.3N   \n",
      "4  EP011949              UNNAMED  19490612     0           TS    20.4N   \n",
      "5  EP011949              UNNAMED  19490612   600           TS    20.5N   \n",
      "\n",
      "  Longitude  Maximum Wind  Minimum Pressure  ...  Low Wind SW  Low Wind NW  \\\n",
      "0    106.3W            45              -999  ...         -999         -999   \n",
      "1    106.4W            45              -999  ...         -999         -999   \n",
      "2    106.7W            45              -999  ...         -999         -999   \n",
      "3    107.7W            45              -999  ...         -999         -999   \n",
      "4    108.6W            45              -999  ...         -999         -999   \n",
      "5    109.4W            45              -999  ...         -999         -999   \n",
      "\n",
      "   Moderate Wind NE  Moderate Wind SE  Moderate Wind SW  Moderate Wind NW  \\\n",
      "0              -999              -999              -999              -999   \n",
      "1              -999              -999              -999              -999   \n",
      "2              -999              -999              -999              -999   \n",
      "3              -999              -999              -999              -999   \n",
      "4              -999              -999              -999              -999   \n",
      "5              -999              -999              -999              -999   \n",
      "\n",
      "   High Wind NE  High Wind SE  High Wind SW  High Wind NW  \n",
      "0          -999          -999          -999          -999  \n",
      "1          -999          -999          -999          -999  \n",
      "2          -999          -999          -999          -999  \n",
      "3          -999          -999          -999          -999  \n",
      "4          -999          -999          -999          -999  \n",
      "5          -999          -999          -999          -999  \n",
      "\n",
      "[6 rows x 22 columns]\n"
     ]
    }
   ],
   "source": [
    "import random\n",
    "data = pd.read_csv('C:/Users/abhin/OneDrive/Desktop/MachineLearningTraining/Edureka/DataSets/pacific.csv')\n",
    "print(data.head(6))"
   ]
  },
  {
   "cell_type": "code",
   "execution_count": 10,
   "metadata": {},
   "outputs": [
    {
     "name": "stdout",
     "output_type": "stream",
     "text": [
      "<class 'pandas.core.frame.DataFrame'>\n",
      "RangeIndex: 26137 entries, 0 to 26136\n",
      "Data columns (total 22 columns):\n",
      "ID                  26137 non-null object\n",
      "Name                26137 non-null object\n",
      "Date                26137 non-null int64\n",
      "Time                26137 non-null int64\n",
      "Event               26137 non-null object\n",
      "Status              26137 non-null object\n",
      "Latitude            26137 non-null object\n",
      "Longitude           26137 non-null object\n",
      "Maximum Wind        26137 non-null int64\n",
      "Minimum Pressure    26137 non-null int64\n",
      "Low Wind NE         26137 non-null int64\n",
      "Low Wind SE         26137 non-null int64\n",
      "Low Wind SW         26137 non-null int64\n",
      "Low Wind NW         26137 non-null int64\n",
      "Moderate Wind NE    26137 non-null int64\n",
      "Moderate Wind SE    26137 non-null int64\n",
      "Moderate Wind SW    26137 non-null int64\n",
      "Moderate Wind NW    26137 non-null int64\n",
      "High Wind NE        26137 non-null int64\n",
      "High Wind SE        26137 non-null int64\n",
      "High Wind SW        26137 non-null int64\n",
      "High Wind NW        26137 non-null int64\n",
      "dtypes: int64(16), object(6)\n",
      "memory usage: 4.4+ MB\n",
      "None\n"
     ]
    }
   ],
   "source": [
    "print(data.info())"
   ]
  },
  {
   "cell_type": "code",
   "execution_count": 11,
   "metadata": {},
   "outputs": [
    {
     "data": {
      "text/html": [
       "<div>\n",
       "<style scoped>\n",
       "    .dataframe tbody tr th:only-of-type {\n",
       "        vertical-align: middle;\n",
       "    }\n",
       "\n",
       "    .dataframe tbody tr th {\n",
       "        vertical-align: top;\n",
       "    }\n",
       "\n",
       "    .dataframe thead th {\n",
       "        text-align: right;\n",
       "    }\n",
       "</style>\n",
       "<table border=\"1\" class=\"dataframe\">\n",
       "  <thead>\n",
       "    <tr style=\"text-align: right;\">\n",
       "      <th></th>\n",
       "      <th>Date</th>\n",
       "      <th>Time</th>\n",
       "      <th>Maximum Wind</th>\n",
       "      <th>Minimum Pressure</th>\n",
       "      <th>Low Wind NE</th>\n",
       "      <th>Low Wind SE</th>\n",
       "      <th>Low Wind SW</th>\n",
       "      <th>Low Wind NW</th>\n",
       "      <th>Moderate Wind NE</th>\n",
       "      <th>Moderate Wind SE</th>\n",
       "      <th>Moderate Wind SW</th>\n",
       "      <th>Moderate Wind NW</th>\n",
       "      <th>High Wind NE</th>\n",
       "      <th>High Wind SE</th>\n",
       "      <th>High Wind SW</th>\n",
       "      <th>High Wind NW</th>\n",
       "    </tr>\n",
       "  </thead>\n",
       "  <tbody>\n",
       "    <tr>\n",
       "      <th>count</th>\n",
       "      <td>2.613700e+04</td>\n",
       "      <td>26137.000000</td>\n",
       "      <td>26137.000000</td>\n",
       "      <td>26137.000000</td>\n",
       "      <td>26137.000000</td>\n",
       "      <td>26137.000000</td>\n",
       "      <td>26137.000000</td>\n",
       "      <td>26137.000000</td>\n",
       "      <td>26137.000000</td>\n",
       "      <td>26137.000000</td>\n",
       "      <td>26137.000000</td>\n",
       "      <td>26137.000000</td>\n",
       "      <td>26137.000000</td>\n",
       "      <td>26137.000000</td>\n",
       "      <td>26137.000000</td>\n",
       "      <td>26137.000000</td>\n",
       "    </tr>\n",
       "    <tr>\n",
       "      <th>mean</th>\n",
       "      <td>1.988908e+07</td>\n",
       "      <td>896.050427</td>\n",
       "      <td>48.949344</td>\n",
       "      <td>18.176225</td>\n",
       "      <td>-745.064851</td>\n",
       "      <td>-746.312125</td>\n",
       "      <td>-748.290929</td>\n",
       "      <td>-746.320542</td>\n",
       "      <td>-751.604622</td>\n",
       "      <td>-752.094923</td>\n",
       "      <td>-752.701917</td>\n",
       "      <td>-752.102957</td>\n",
       "      <td>-753.584382</td>\n",
       "      <td>-753.787160</td>\n",
       "      <td>-754.046945</td>\n",
       "      <td>-753.774534</td>\n",
       "    </tr>\n",
       "    <tr>\n",
       "      <th>std</th>\n",
       "      <td>1.688455e+05</td>\n",
       "      <td>672.008065</td>\n",
       "      <td>25.334450</td>\n",
       "      <td>996.896388</td>\n",
       "      <td>447.193480</td>\n",
       "      <td>444.883379</td>\n",
       "      <td>441.232953</td>\n",
       "      <td>444.939111</td>\n",
       "      <td>435.198872</td>\n",
       "      <td>434.303796</td>\n",
       "      <td>433.202389</td>\n",
       "      <td>434.291049</td>\n",
       "      <td>431.605766</td>\n",
       "      <td>431.239618</td>\n",
       "      <td>430.773515</td>\n",
       "      <td>431.263235</td>\n",
       "    </tr>\n",
       "    <tr>\n",
       "      <th>min</th>\n",
       "      <td>1.949061e+07</td>\n",
       "      <td>0.000000</td>\n",
       "      <td>10.000000</td>\n",
       "      <td>-999.000000</td>\n",
       "      <td>-999.000000</td>\n",
       "      <td>-999.000000</td>\n",
       "      <td>-999.000000</td>\n",
       "      <td>-999.000000</td>\n",
       "      <td>-999.000000</td>\n",
       "      <td>-999.000000</td>\n",
       "      <td>-999.000000</td>\n",
       "      <td>-999.000000</td>\n",
       "      <td>-999.000000</td>\n",
       "      <td>-999.000000</td>\n",
       "      <td>-999.000000</td>\n",
       "      <td>-999.000000</td>\n",
       "    </tr>\n",
       "    <tr>\n",
       "      <th>25%</th>\n",
       "      <td>1.976081e+07</td>\n",
       "      <td>0.000000</td>\n",
       "      <td>30.000000</td>\n",
       "      <td>-999.000000</td>\n",
       "      <td>-999.000000</td>\n",
       "      <td>-999.000000</td>\n",
       "      <td>-999.000000</td>\n",
       "      <td>-999.000000</td>\n",
       "      <td>-999.000000</td>\n",
       "      <td>-999.000000</td>\n",
       "      <td>-999.000000</td>\n",
       "      <td>-999.000000</td>\n",
       "      <td>-999.000000</td>\n",
       "      <td>-999.000000</td>\n",
       "      <td>-999.000000</td>\n",
       "      <td>-999.000000</td>\n",
       "    </tr>\n",
       "    <tr>\n",
       "      <th>50%</th>\n",
       "      <td>1.990081e+07</td>\n",
       "      <td>600.000000</td>\n",
       "      <td>45.000000</td>\n",
       "      <td>941.000000</td>\n",
       "      <td>-999.000000</td>\n",
       "      <td>-999.000000</td>\n",
       "      <td>-999.000000</td>\n",
       "      <td>-999.000000</td>\n",
       "      <td>-999.000000</td>\n",
       "      <td>-999.000000</td>\n",
       "      <td>-999.000000</td>\n",
       "      <td>-999.000000</td>\n",
       "      <td>-999.000000</td>\n",
       "      <td>-999.000000</td>\n",
       "      <td>-999.000000</td>\n",
       "      <td>-999.000000</td>\n",
       "    </tr>\n",
       "    <tr>\n",
       "      <th>75%</th>\n",
       "      <td>2.003092e+07</td>\n",
       "      <td>1200.000000</td>\n",
       "      <td>65.000000</td>\n",
       "      <td>1002.000000</td>\n",
       "      <td>-999.000000</td>\n",
       "      <td>-999.000000</td>\n",
       "      <td>-999.000000</td>\n",
       "      <td>-999.000000</td>\n",
       "      <td>-999.000000</td>\n",
       "      <td>-999.000000</td>\n",
       "      <td>-999.000000</td>\n",
       "      <td>-999.000000</td>\n",
       "      <td>-999.000000</td>\n",
       "      <td>-999.000000</td>\n",
       "      <td>-999.000000</td>\n",
       "      <td>-999.000000</td>\n",
       "    </tr>\n",
       "    <tr>\n",
       "      <th>max</th>\n",
       "      <td>2.015113e+07</td>\n",
       "      <td>2300.000000</td>\n",
       "      <td>185.000000</td>\n",
       "      <td>1021.000000</td>\n",
       "      <td>300.000000</td>\n",
       "      <td>270.000000</td>\n",
       "      <td>180.000000</td>\n",
       "      <td>1180.000000</td>\n",
       "      <td>150.000000</td>\n",
       "      <td>150.000000</td>\n",
       "      <td>105.000000</td>\n",
       "      <td>150.000000</td>\n",
       "      <td>100.000000</td>\n",
       "      <td>75.000000</td>\n",
       "      <td>75.000000</td>\n",
       "      <td>100.000000</td>\n",
       "    </tr>\n",
       "  </tbody>\n",
       "</table>\n",
       "</div>"
      ],
      "text/plain": [
       "               Date          Time  Maximum Wind  Minimum Pressure  \\\n",
       "count  2.613700e+04  26137.000000  26137.000000      26137.000000   \n",
       "mean   1.988908e+07    896.050427     48.949344         18.176225   \n",
       "std    1.688455e+05    672.008065     25.334450        996.896388   \n",
       "min    1.949061e+07      0.000000     10.000000       -999.000000   \n",
       "25%    1.976081e+07      0.000000     30.000000       -999.000000   \n",
       "50%    1.990081e+07    600.000000     45.000000        941.000000   \n",
       "75%    2.003092e+07   1200.000000     65.000000       1002.000000   \n",
       "max    2.015113e+07   2300.000000    185.000000       1021.000000   \n",
       "\n",
       "        Low Wind NE   Low Wind SE   Low Wind SW   Low Wind NW  \\\n",
       "count  26137.000000  26137.000000  26137.000000  26137.000000   \n",
       "mean    -745.064851   -746.312125   -748.290929   -746.320542   \n",
       "std      447.193480    444.883379    441.232953    444.939111   \n",
       "min     -999.000000   -999.000000   -999.000000   -999.000000   \n",
       "25%     -999.000000   -999.000000   -999.000000   -999.000000   \n",
       "50%     -999.000000   -999.000000   -999.000000   -999.000000   \n",
       "75%     -999.000000   -999.000000   -999.000000   -999.000000   \n",
       "max      300.000000    270.000000    180.000000   1180.000000   \n",
       "\n",
       "       Moderate Wind NE  Moderate Wind SE  Moderate Wind SW  Moderate Wind NW  \\\n",
       "count      26137.000000      26137.000000      26137.000000      26137.000000   \n",
       "mean        -751.604622       -752.094923       -752.701917       -752.102957   \n",
       "std          435.198872        434.303796        433.202389        434.291049   \n",
       "min         -999.000000       -999.000000       -999.000000       -999.000000   \n",
       "25%         -999.000000       -999.000000       -999.000000       -999.000000   \n",
       "50%         -999.000000       -999.000000       -999.000000       -999.000000   \n",
       "75%         -999.000000       -999.000000       -999.000000       -999.000000   \n",
       "max          150.000000        150.000000        105.000000        150.000000   \n",
       "\n",
       "       High Wind NE  High Wind SE  High Wind SW  High Wind NW  \n",
       "count  26137.000000  26137.000000  26137.000000  26137.000000  \n",
       "mean    -753.584382   -753.787160   -754.046945   -753.774534  \n",
       "std      431.605766    431.239618    430.773515    431.263235  \n",
       "min     -999.000000   -999.000000   -999.000000   -999.000000  \n",
       "25%     -999.000000   -999.000000   -999.000000   -999.000000  \n",
       "50%     -999.000000   -999.000000   -999.000000   -999.000000  \n",
       "75%     -999.000000   -999.000000   -999.000000   -999.000000  \n",
       "max      100.000000     75.000000     75.000000    100.000000  "
      ]
     },
     "execution_count": 11,
     "metadata": {},
     "output_type": "execute_result"
    }
   ],
   "source": [
    "data.describe()"
   ]
  },
  {
   "cell_type": "code",
   "execution_count": 12,
   "metadata": {},
   "outputs": [
    {
     "name": "stdout",
     "output_type": "stream",
     "text": [
      "         ID                 Name      Date  Time Event  Status Latitude  \\\n",
      "0  EP011949              UNNAMED  19490611     0            11    20.2N   \n",
      "1  EP011949              UNNAMED  19490611   600            11    20.2N   \n",
      "2  EP011949              UNNAMED  19490611  1200            11    20.2N   \n",
      "3  EP011949              UNNAMED  19490611  1800            11    20.3N   \n",
      "4  EP011949              UNNAMED  19490612     0            11    20.4N   \n",
      "\n",
      "  Longitude  Maximum Wind  Minimum Pressure  ...  Low Wind SW  Low Wind NW  \\\n",
      "0    106.3W            45              -999  ...         -999         -999   \n",
      "1    106.4W            45              -999  ...         -999         -999   \n",
      "2    106.7W            45              -999  ...         -999         -999   \n",
      "3    107.7W            45              -999  ...         -999         -999   \n",
      "4    108.6W            45              -999  ...         -999         -999   \n",
      "\n",
      "   Moderate Wind NE  Moderate Wind SE  Moderate Wind SW  Moderate Wind NW  \\\n",
      "0              -999              -999              -999              -999   \n",
      "1              -999              -999              -999              -999   \n",
      "2              -999              -999              -999              -999   \n",
      "3              -999              -999              -999              -999   \n",
      "4              -999              -999              -999              -999   \n",
      "\n",
      "   High Wind NE  High Wind SE  High Wind SW  High Wind NW  \n",
      "0          -999          -999          -999          -999  \n",
      "1          -999          -999          -999          -999  \n",
      "2          -999          -999          -999          -999  \n",
      "3          -999          -999          -999          -999  \n",
      "4          -999          -999          -999          -999  \n",
      "\n",
      "[5 rows x 22 columns]\n"
     ]
    }
   ],
   "source": [
    "data.Status= pd.Categorical(data.Status)\n",
    "data['Status']= data.Status.cat.codes\n",
    "print(data.head())"
   ]
  },
  {
   "cell_type": "code",
   "execution_count": 14,
   "metadata": {},
   "outputs": [
    {
     "data": {
      "text/plain": [
       "<matplotlib.axes._subplots.AxesSubplot at 0x1e1689d6438>"
      ]
     },
     "execution_count": 14,
     "metadata": {},
     "output_type": "execute_result"
    },
    {
     "data": {
      "image/png": "[encoded data removed]",
      "text/plain": [
       "<Figure size 432x288 with 1 Axes>"
      ]
     },
     "metadata": {
      "needs_background": "light"
     },
     "output_type": "display_data"
    }
   ],
   "source": [
    "sns.countplot(data['Status'],label=\"Count\")\n"
   ]
  },
  {
   "cell_type": "code",
   "execution_count": 15,
   "metadata": {},
   "outputs": [
    {
     "name": "stdout",
     "output_type": "stream",
     "text": [
      "['Maximum Wind', 'Minimum Pressure', 'Low Wind NE', 'Low Wind SE', 'Low Wind SW', 'Low Wind NW', 'Moderate Wind NE', 'Moderate Wind SE', 'Moderate Wind SW', 'Moderate Wind NW', 'High Wind NE', 'High Wind SE', 'High Wind SW', 'High Wind NW']\n"
     ]
    },
    {
     "name": "stderr",
     "output_type": "stream",
     "text": [
      "C:\\Users\\abhin\\Anaconda3\\lib\\site-packages\\pandas\\core\\frame.py:3940: SettingWithCopyWarning: \n",
      "A value is trying to be set on a copy of a slice from a DataFrame\n",
      "\n",
      "See the caveats in the documentation: http://pandas.pydata.org/pandas-docs/stable/indexing.html#indexing-view-versus-copy\n",
      "  errors=errors)\n"
     ]
    }
   ],
   "source": [
    "random.seed(2)\n",
    "pred_col=data[:]\n",
    "pred_col.drop(['Status','Event','Latitude','Longitude','ID','Name','Date','Time'], axis=1, inplace=True)\n",
    "pred_var= pred_col.columns\n",
    "print(list(pred_var))"
   ]
  },
  {
   "cell_type": "code",
   "execution_count": 17,
   "metadata": {},
   "outputs": [
    {
     "name": "stdout",
     "output_type": "stream",
     "text": [
      "(18295, 22)\n",
      "(7842, 22)\n"
     ]
    }
   ],
   "source": [
    "train,test= train_test_split(data,test_size=0.3)\n",
    "print(train.shape)\n",
    "print(test.shape)"
   ]
  },
  {
   "cell_type": "code",
   "execution_count": 18,
   "metadata": {},
   "outputs": [],
   "source": [
    "x_train= train[pred_var]\n",
    "x_test= test[pred_var]\n",
    "y_train= train.Status\n",
    "y_test= test.Status"
   ]
  },
  {
   "cell_type": "code",
   "execution_count": 19,
   "metadata": {},
   "outputs": [
    {
     "name": "stdout",
     "output_type": "stream",
     "text": [
      "0.9568987503187962\n"
     ]
    }
   ],
   "source": [
    "model= RandomForestClassifier(n_estimators=100)\n",
    "model.fit(x_train,y_train)\n",
    "y_pred=model.predict(x_test)\n",
    "print(accuracy_score(y_test,y_pred))"
   ]
  },
  {
   "cell_type": "markdown",
   "metadata": {},
   "source": [
    "## Decision Tree"
   ]
  },
  {
   "cell_type": "code",
   "execution_count": 20,
   "metadata": {},
   "outputs": [
    {
     "name": "stdout",
     "output_type": "stream",
     "text": [
      "0.9562611578678909\n"
     ]
    }
   ],
   "source": [
    "model1 =  tree.DecisionTreeClassifier()\n",
    "model1.fit(x_train,y_train)\n",
    "y_predic= model1.predict(x_test)\n",
    "print(accuracy_score(y_test,y_predic))"
   ]
  },
  {
   "cell_type": "code",
   "execution_count": null,
   "metadata": {},
   "outputs": [],
   "source": []
  }
 ],
 "metadata": {
  "kernelspec": {
   "display_name": "Python 3",
   "language": "python",
   "name": "python3"
  },
  "language_info": {
   "codemirror_mode": {
    "name": "ipython",
    "version": 3
   },
   "file_extension": ".py",
   "mimetype": "text/x-python",
   "name": "python",
   "nbconvert_exporter": "python",
   "pygments_lexer": "ipython3",
   "version": "3.7.4"
  }
 },
 "nbformat": 4,
 "nbformat_minor": 2
}
